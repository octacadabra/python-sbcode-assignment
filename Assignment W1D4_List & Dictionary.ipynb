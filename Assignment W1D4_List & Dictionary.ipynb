{
 "cells": [
  {
   "cell_type": "markdown",
   "metadata": {
    "id": "1O3NGQSKzf_A"
   },
   "source": [
    "# List"
   ]
  },
  {
   "cell_type": "markdown",
   "metadata": {
    "id": "m2VWq6g9szIv"
   },
   "source": [
    "<h2>Sifat List</h2>"
   ]
  },
  {
   "cell_type": "markdown",
   "metadata": {
    "id": "oUTuv3Me3izt"
   },
   "source": [
    "Di dalam list bisa ada tipe data apa saja: string, integer, float, double, boolean, object, dan sebagainya.\n",
    "Dalam satu list tidak hanya bisa terisi oleh satu jenis data saja, tetapi bisa dicampur."
   ]
  },
  {
   "cell_type": "markdown",
   "metadata": {
    "id": "XD1fT351szI2"
   },
   "source": [
    "<h2>Akses List</h2>\n",
    "\n",
    "Akan dibuat kode untuk menghasilkan suatu output yang diharapkan:"
   ]
  },
  {
   "cell_type": "code",
   "execution_count": null,
   "metadata": {
    "id": "qXKteY88szI5",
    "outputId": "8e0b8b32-ea20-4ef9-d3f2-4a50affbd0ac"
   },
   "outputs": [
    {
     "name": "stdout",
     "output_type": "stream",
     "text": [
      "['13b', 'aa1', 1.32, 22.1]\n"
     ]
    }
   ],
   "source": [
    "a = ['1', '13b', 'aa1', 1.32, 22.1, 2.34]\n",
    "# slicing list\n",
    "print(a[1:5])"
   ]
  },
  {
   "cell_type": "markdown",
   "metadata": {
    "id": "4Qp2wjmOszJJ"
   },
   "source": [
    "Expected Output :\n",
    "\n",
    "[ '13b', 'aa1', 1.32, 22.1 ]"
   ]
  },
  {
   "cell_type": "markdown",
   "metadata": {
    "id": "qf7YmOZzszJL"
   },
   "source": [
    "<h2>Nested List</h2>\n",
    "\n",
    "Akan dibuat kode untuk menghasilkan suatu output yang diharapkan:"
   ]
  },
  {
   "cell_type": "code",
   "execution_count": null,
   "metadata": {
    "id": "JCac4gPfszJO",
    "outputId": "40d66deb-3972-4acf-c595-210e24941eb6"
   },
   "outputs": [
    {
     "name": "stdout",
     "output_type": "stream",
     "text": [
      "[[1.32, 22.1, 2.34], [3, 40, 100], ['1', '13b', 'aa1']]\n"
     ]
    }
   ],
   "source": [
    "a = [1.32, 22.1, 2.34]\n",
    "b = ['1', '13b', 'aa1']\n",
    "c = [3, 40, 100]\n",
    "print([a,c,b])"
   ]
  },
  {
   "cell_type": "markdown",
   "metadata": {
    "id": "mNzKeR8hszJk"
   },
   "source": [
    "Expected Output :\n",
    "\n",
    "[ [1.32, 22.1, 2.34], [3, 40, 100], ['1', '13b', 'aa1'] ]"
   ]
  },
  {
   "cell_type": "markdown",
   "metadata": {
    "id": "zKS3e_kTszJm"
   },
   "source": [
    "<h2>Akses Nested List</h2>\n",
    "\n",
    "Akan dibuat kode untuk menghasilkan suatu output yang diharapkan:"
   ]
  },
  {
   "cell_type": "code",
   "execution_count": null,
   "metadata": {
    "id": "IhFh_WCzszJo",
    "outputId": "817b60bd-3265-4afa-b204-d91b25c8bdd0"
   },
   "outputs": [
    {
     "name": "stdout",
     "output_type": "stream",
     "text": [
      "[0, 6]\n"
     ]
    }
   ],
   "source": [
    "a = [\n",
    "    [5, 9, 8],\n",
    "    [0, 0, 6]\n",
    "    ]\n",
    "# subsetting list\n",
    "print(a[1][-2:])"
   ]
  },
  {
   "cell_type": "markdown",
   "metadata": {
    "id": "mk5EMa6pszJ2"
   },
   "source": [
    "Expected Output :\n",
    "\n",
    "\n",
    "[0, 6]"
   ]
  },
  {
   "cell_type": "markdown",
   "metadata": {
    "id": "sTVLtrqCszJ4"
   },
   "source": [
    "<h2>Built-in Function List</h2>\n",
    "\n",
    "Akan dibuat kode untuk menghasilkan suatu output yang diharapkan:"
   ]
  },
  {
   "cell_type": "code",
   "execution_count": null,
   "metadata": {
    "id": "oCz3O7gAszJ6",
    "outputId": "ec1c97a7-e61d-465c-dde1-04b0f801c64f"
   },
   "outputs": [
    {
     "name": "stdout",
     "output_type": "stream",
     "text": [
      "[0, 2, 4, 5, 9, 10]\n",
      "10\n"
     ]
    }
   ],
   "source": [
    "p = [0, 5, 2, 10, 4, 9]\n",
    "# ordered list\n",
    "print(sorted(p, reverse=False))\n",
    "# get max value of list\n",
    "print(max(p))"
   ]
  },
  {
   "cell_type": "markdown",
   "metadata": {
    "id": "Nejk71aWszKE"
   },
   "source": [
    "Expected Output :\n",
    "\n",
    "[0, 2, 4, 5, 9, 10]\n",
    "\n",
    "10"
   ]
  },
  {
   "cell_type": "markdown",
   "metadata": {
    "id": "OEU53cA_szKG"
   },
   "source": [
    "<h2>List Operation</h2>\n",
    "\n",
    "Akan dibuat kode untuk menghasilkan suatu output yang diharapkan:"
   ]
  },
  {
   "cell_type": "code",
   "execution_count": null,
   "metadata": {
    "id": "N-dxC1qYszKJ",
    "outputId": "34a0498d-2dd5-4b28-d336-2e49ea2f577d"
   },
   "outputs": [
    {
     "name": "stdout",
     "output_type": "stream",
     "text": [
      "[5, 1, 3, 1, 3, 5]\n"
     ]
    }
   ],
   "source": [
    "a = [1, 3, 5]\n",
    "b = [5, 1, 3]\n",
    "# combine list\n",
    "# cara 1\n",
    "for x in a:\n",
    "    b.append(x)\n",
    "    \n",
    "print(b)"
   ]
  },
  {
   "cell_type": "code",
   "execution_count": null,
   "metadata": {
    "id": "mCaADPSuXzTn",
    "outputId": "d7e4da34-439d-4c62-a29c-a0a7bcddf583"
   },
   "outputs": [
    {
     "name": "stdout",
     "output_type": "stream",
     "text": [
      "[5, 1, 3, 1, 3, 5]\n"
     ]
    }
   ],
   "source": [
    "# cara 2\n",
    "\n",
    "a = [1, 3, 5]\n",
    "b = [5, 1, 3]\n",
    "\n",
    "b.extend(a)\n",
    "print(b)"
   ]
  },
  {
   "cell_type": "markdown",
   "metadata": {
    "id": "g0xy9HZrszKV"
   },
   "source": [
    "Expected Output :\n",
    "\n",
    "[5, 1, 3, 1, 3, 5]"
   ]
  },
  {
   "cell_type": "markdown",
   "metadata": {
    "id": "cggENDN4szKX"
   },
   "source": [
    "<h2>List Manipulation</h2>\n",
    "\n",
    "Akan dibuat kode untuk menghasilkan suatu output yang diharapkan:"
   ]
  },
  {
   "cell_type": "code",
   "execution_count": null,
   "metadata": {
    "id": "GOZQAPg9szKa",
    "outputId": "ece79ce6-ff51-46d6-c213-be65db33f343"
   },
   "outputs": [
    {
     "name": "stdout",
     "output_type": "stream",
     "text": [
      "[[5, 9, 10], [11, 0, 6]]\n"
     ]
    }
   ],
   "source": [
    "a = [\n",
    "    [5, 9, 8],\n",
    "    [0, 0, 6]\n",
    "    ]\n",
    "# change list value\n",
    "a[0][2] = 10\n",
    "# change list value\n",
    "a[1][0] = 11\n",
    "print(a)"
   ]
  },
  {
   "cell_type": "markdown",
   "metadata": {
    "id": "iYHFRJW7szKl"
   },
   "source": [
    "Expected Output :\n",
    "\n",
    "[ [5, 9, 10], [11, 0, 6] ]"
   ]
  },
  {
   "cell_type": "markdown",
   "metadata": {
    "id": "dSTDqY9iszKn"
   },
   "source": [
    "<h2>Delete Element List</h2>\n",
    "\n",
    "Akan dibuat kode untuk menghasilkan suatu output yang diharapkan:"
   ]
  },
  {
   "cell_type": "code",
   "execution_count": null,
   "metadata": {
    "id": "hTQNLWiUszKq",
    "outputId": "4c226455-b327-4dc7-d38b-b93752a53615"
   },
   "outputs": [
    {
     "name": "stdout",
     "output_type": "stream",
     "text": [
      "['hallway', 11.25, 'kitchen', 18.0, 'chill zone', 20.0, 'bedroom', 10.75, 'poolhouse', 24.5, 'garage', 15.45]\n"
     ]
    }
   ],
   "source": [
    "areas = [\"hallway\", 11.25, \"kitchen\", 18.0,\n",
    "        \"chill zone\", 20.0, \"bedroom\", 10.75,\n",
    "         \"bathroom\", 10.50, \"poolhouse\", 24.5,\n",
    "         \"garage\", 15.45]\n",
    "\n",
    "# Hilangkan elemen yang bernilai \"bathroom\" dan 10.50 dalam satu statement code\n",
    "del areas[8:10]\n",
    "\n",
    "print(areas)"
   ]
  },
  {
   "cell_type": "markdown",
   "metadata": {
    "id": "ZeF61jc_szK1"
   },
   "source": [
    "Expected Output:\n",
    "\n",
    "['hallway',\n",
    " 11.25,\n",
    " 'kitchen',\n",
    " 18.0,\n",
    " 'chill zone',\n",
    " 20.0,\n",
    " 'bedroom',\n",
    " 10.75,\n",
    " 'poolhouse',\n",
    " 24.5,\n",
    " 'garage',\n",
    " 15.45]\n",
    "\n"
   ]
  },
  {
   "cell_type": "markdown",
   "metadata": {
    "id": "onKmJ3XqY5FN"
   },
   "source": [
    "<h2>List Comprehension</h2>\n",
    "\n",
    "Akan digunakan metode **list comprehension** untuk mencari anggota dari S yang habis dibagi 2, kemudian assign hasilnya dalam bentuk list ke dalam variabel T."
   ]
  },
  {
   "cell_type": "code",
   "execution_count": null,
   "metadata": {
    "id": "xs3OWJP_Z5rb",
    "outputId": "fd70707f-7b79-4baa-b393-1666e03e2789"
   },
   "outputs": [
    {
     "name": "stdout",
     "output_type": "stream",
     "text": [
      "[0, 4, 16, 36, 64]\n"
     ]
    }
   ],
   "source": [
    "S = [0, 1, 4, 9, 16, 25, 36, 49, 64, 81]\n",
    "\n",
    "T = []\n",
    "\n",
    "for i in S:\n",
    "    if (i%2) == 0:\n",
    "        T.append(i)\n",
    "        i = i + 1\n",
    "\n",
    "print(T)"
   ]
  },
  {
   "cell_type": "markdown",
   "metadata": {
    "id": "Jjn-28CDaShb"
   },
   "source": [
    "Expected Output:\n",
    "\n",
    "[0, 4, 16, 36, 64]"
   ]
  },
  {
   "cell_type": "markdown",
   "metadata": {
    "id": "gdBwjXz8zoMi"
   },
   "source": [
    "# Dictionary"
   ]
  },
  {
   "cell_type": "markdown",
   "metadata": {
    "id": "fyoYEJKw6qoo"
   },
   "source": [
    "<h2>Akses Dictionary</h2>\n",
    "\n",
    "Akan dibuat kode untuk menghasilkan suatu output yang diharapkan:"
   ]
  },
  {
   "cell_type": "code",
   "execution_count": null,
   "metadata": {
    "id": "rs7ByDTw6qop",
    "outputId": "eb80b5c5-fe6d-43ec-8a14-b0778c6d1cc7"
   },
   "outputs": [
    {
     "name": "stdout",
     "output_type": "stream",
     "text": [
      "dict_keys(['spain', 'france', 'germany', 'norway'])\n",
      "paris\n"
     ]
    }
   ],
   "source": [
    "europe = {'spain':'madrid', 'france':'paris', 'germany':'berlin', 'norway':'oslo' }\n",
    "\n",
    "# print semua key yang ada di objek europe\n",
    "print(europe.keys())\n",
    "# print nilai dari key france\n",
    "print(europe['france'])"
   ]
  },
  {
   "cell_type": "markdown",
   "metadata": {
    "id": "LF8QRq8E6qov"
   },
   "source": [
    "Expected Output:\n",
    "\n",
    "dict_keys(['spain', 'france', 'germany', 'norway'])\n",
    "\n",
    "paris"
   ]
  },
  {
   "cell_type": "markdown",
   "metadata": {
    "id": "qjMKbE9D6qow"
   },
   "source": [
    "<h2>Menambahkan key-value baru ke Dictionary</h2>\n",
    "\n",
    "Akan dibuat kode untuk menghasilkan suatu output yang diharapkan:"
   ]
  },
  {
   "cell_type": "code",
   "execution_count": null,
   "metadata": {
    "id": "rU7Z5dzC6qox",
    "outputId": "65f641a8-934c-419f-de5b-741e282d056d"
   },
   "outputs": [
    {
     "data": {
      "text/plain": [
       "True"
      ]
     },
     "execution_count": 51,
     "metadata": {
      "tags": []
     },
     "output_type": "execute_result"
    }
   ],
   "source": [
    "europe = {'spain':'madrid', 'france':'paris', 'germany':'berlin', 'norway':'oslo' }\n",
    "\n",
    "# tambahkan key itali ke objek dictionary dengan value roma\n",
    "europe.update(itali = 'roma' )\n",
    "\n",
    "# cek apakah itali ada di dalam objek dictionary\n",
    "\"itali\" in europe"
   ]
  },
  {
   "cell_type": "markdown",
   "metadata": {
    "id": "ur84PUyz6qo1"
   },
   "source": [
    "Expected Output:\n",
    "    \n",
    "True"
   ]
  },
  {
   "cell_type": "markdown",
   "metadata": {
    "id": "bgilSLKl6qo2"
   },
   "source": [
    "<h2>Update dan Remove Dictinary</h2>\n",
    "    \n",
    "Akan dibuat kode untuk menghasilkan suatu output yang diharapkan:"
   ]
  },
  {
   "cell_type": "code",
   "execution_count": null,
   "metadata": {
    "id": "QO9EowXH6qo2",
    "outputId": "68dd0a96-8143-4fe1-c91b-ec26473b6df8"
   },
   "outputs": [
    {
     "name": "stdout",
     "output_type": "stream",
     "text": [
      "{'spain': 'madrid', 'france': 'paris', 'germany': 'berlin', 'norway': 'oslo', 'italy': 'rome', 'poland': 'warsaw'}\n"
     ]
    }
   ],
   "source": [
    "europe = {'spain':'madrid', 'france':'paris', 'germany':'bonn',\n",
    "          'norway':'oslo', 'italy':'rome', 'poland':'warsaw',\n",
    "          'australia':'vienna' }\n",
    "\n",
    "# update nilai ibukota german ke berlin\n",
    "europe['germany'] = 'berlin'\n",
    "\n",
    "# remove australia dari europa\n",
    "del europe[\"australia\"]\n",
    "\n",
    "print(europe)"
   ]
  },
  {
   "cell_type": "markdown",
   "metadata": {
    "id": "VDpHuoXS6qo6"
   },
   "source": [
    "Expected Output:\n",
    "\n",
    "{'spain': 'madrid', 'france': 'paris', 'germany': 'berlin', 'norway': 'oslo', 'italy': 'rome', 'poland': 'warsaw'}"
   ]
  },
  {
   "cell_type": "markdown",
   "metadata": {
    "id": "FNWyId1S6qo7"
   },
   "source": [
    "<h2>Nested Dictionary</h2>\n",
    "    \n",
    "Akan dibuat kode untuk menghasilkan suatu output yang diharapkan:"
   ]
  },
  {
   "cell_type": "code",
   "execution_count": null,
   "metadata": {
    "id": "OAkJDiGd6qo7",
    "outputId": "9d043e67-7675-421d-e4cf-2c86a5326d58"
   },
   "outputs": [
    {
     "name": "stdout",
     "output_type": "stream",
     "text": [
      "80.62\n",
      "{'spain': {'capital': 'madrid', 'population': 46.77}, 'france': {'capital': 'paris', 'population': 66.03}, 'germany': {'capital': 'berlin', 'population': 80.62}, 'norway': {'capital': 'oslo', 'population': 5.084}, 'indonesia': {'capital': 'jakarta', 'population': 250}}\n"
     ]
    }
   ],
   "source": [
    "country = { \n",
    "           'spain': { 'capital':'madrid', 'population':46.77 },\n",
    "           'france': { 'capital':'paris', 'population':66.03 },\n",
    "           'germany': { 'capital':'berlin', 'population':80.62 },\n",
    "           'norway': { 'capital':'oslo', 'population':5.084 } \n",
    "         }\n",
    "\n",
    "# berapa populasi dari kota german?\n",
    "print(country[\"germany\"][\"population\"])\n",
    "\n",
    "# update data baru, yaitu negara indonesia dengan capital jakarta dan poulasi 250\n",
    "indonesia = { \"capital\": \"jakarta\", \"population\": 250 }\n",
    "country[\"indonesia\"] = indonesia\n",
    "\n",
    "\n",
    "print(country)"
   ]
  },
  {
   "cell_type": "markdown",
   "metadata": {
    "id": "fKT0REFD6qo_"
   },
   "source": [
    "Expected Output:\n",
    "\n",
    "80.62\n",
    "\n",
    "{'spain': {'capital': 'madrid', 'population': 46.77}, 'france': {'capital': 'paris', 'population': 66.03}, 'germany': {'capital': 'berlin', 'population': 80.62}, 'norway': {'capital': 'oslo', 'population': 5.084}, 'indonesia': {'capital': 'jakarta', 'population': 250}}"
   ]
  },
  {
   "cell_type": "markdown",
   "metadata": {
    "id": "xefUN_T56qpA"
   },
   "source": [
    "<h2>Loop Dictionary</h2>\n",
    "    \n",
    "Akan dibuat kode untuk menghasilkan suatu output yang diharapkan:"
   ]
  },
  {
   "cell_type": "code",
   "execution_count": null,
   "metadata": {
    "id": "SkYQ0sD76qpA",
    "outputId": "88c0b9d0-ce42-433a-e835-24f9dcdd62c1"
   },
   "outputs": [
    {
     "name": "stdout",
     "output_type": "stream",
     "text": [
      "Ibukota spain adalah madrid\n",
      "Ibukota france adalah paris\n",
      "Ibukota germany adalah berlin\n",
      "Ibukota norway adalah oslo\n",
      "Ibukota indonesia adalah jakarta\n"
     ]
    }
   ],
   "source": [
    "country = { \n",
    "           'spain': { 'capital':'madrid', 'population':46.77 },\n",
    "           'france': { 'capital':'paris', 'population':66.03 },\n",
    "           'germany': { 'capital':'berlin', 'population':80.62 },\n",
    "           'norway': { 'capital':'oslo', 'population':5.084 },\n",
    "           'indonesia' : {'capital':'jakarta', 'population':250}\n",
    "         }\n",
    "\n",
    "for key, value in country.items():\n",
    "    print('Ibukota ' + key + ' adalah ' + str(value[\"capital\"]))"
   ]
  },
  {
   "cell_type": "markdown",
   "metadata": {
    "id": "YjX6xAtj6qpE"
   },
   "source": [
    "Expected Output:\n",
    "    \n",
    "Ibukota spain adalah madrid\n",
    "\n",
    "Ibukota france adalah paris\n",
    "\n",
    "Ibukota germany adalah berlin\n",
    "\n",
    "Ibukota norway adalah oslo\n",
    "\n",
    "Ibukota indonesia adalah jakarta"
   ]
  },
  {
   "cell_type": "markdown",
   "metadata": {
    "id": "o-QqQ_9TXzWX"
   },
   "source": [
    "## Tambahan\n",
    "\n",
    "### 1. Remove Duplicate List\n",
    "Akan dibuat sebuah fungsi, yang menerima suatu argument objek list, dan return sebuah objek list baru, di mana objek list baru ini berisi list sebelumnya dikurangi dengan data yang duplikat, sehingga setiap element di dalam list adalah unik.\n",
    "\n",
    "Berikan 2 solusi, solusi pertama menggunakan loop dan list, solusi yang kedua menggunakan objek set!"
   ]
  },
  {
   "cell_type": "code",
   "execution_count": null,
   "metadata": {
    "id": "bMqfAgKsXzWZ",
    "outputId": "8ec942db-b4a6-4209-96bd-11914c3a76da",
    "scrolled": true
   },
   "outputs": [
    {
     "name": "stdout",
     "output_type": "stream",
     "text": [
      "[1, 2, 4, 6, 5, 7, 8]\n",
      "[1, 2, 4, 5, 6, 7, 8]\n"
     ]
    }
   ],
   "source": [
    "# solusi tanpa menggunakan set\n",
    "def remove_duplicate(obj_list):\n",
    "    new_list = []\n",
    "    for i in obj_list:\n",
    "        if i not in new_list:\n",
    "            new_list.append(i)\n",
    "    return new_list\n",
    "\n",
    "# solusi dengan menggunakan set\n",
    "def remove_duplicate_with_set(obj_list):\n",
    "    new_list = list(set(obj_list))\n",
    "    return new_list\n",
    "\n",
    "obj_list = [1, 2, 4, 6, 2, 1, 4, 5, 7, 8, 6]\n",
    "print(remove_duplicate(obj_list))\n",
    "print(remove_duplicate_with_set(obj_list))"
   ]
  },
  {
   "cell_type": "markdown",
   "metadata": {
    "id": "VXBiBqd2XzWn"
   },
   "source": [
    "expected output:<br>\n",
    "[1, 2, 4, 6, 5, 7, 8]<br>\n",
    "[1, 2, 4, 5, 6, 7, 8]"
   ]
  },
  {
   "cell_type": "markdown",
   "metadata": {
    "id": "OKIiRGzWXzWo"
   },
   "source": [
    "### 2. Membuat ChatBot Sederhana\n",
    "Buatlah sebuah fungsi chatbot yang memberikan suatu respon dimana chatbot ini menerima satu argument string.\n",
    "\n",
    "Buah sebuah fungsi chatbot yang memberikan suatu respon dimana chatbot ini menerima satu argument string.\n",
    "\n",
    "Jika argument adalah pertanyaan kemudian chatbot mengecek lagi apakah pertanyaan tersebut adalah pertanyaan yang bisa di jawab atau tidak. Jika pertanyaannya bisa di jawab maka fungsi akan memberikan jawaban yang bersifat random berdasarkan opsi list jawaban yang disediakan berdasarkan jenis pertanyaan tersebut. Jika tidak maka chatbot akan memberikan jawaban default bahwa chatbot tidak mengerti pertanyaannya.\n",
    "\n",
    "Jika argument adalah bukan pertanyaan maka chatbot akan memberikan sebuah statement random yang disediakan."
   ]
  },
  {
   "cell_type": "code",
   "execution_count": 1,
   "metadata": {
    "id": "Db3bgmNBXzWq",
    "outputId": "8fdf415c-496c-4612-c001-d1372390bb1a"
   },
   "outputs": [
    {
     "name": "stdout",
     "output_type": "stream",
     "text": [
      "oh wow!\n",
      "maaf, aku tidak tahu jawaban dari pertanyaanmu\n",
      "['nama saya  Nama Anda']\n",
      "['ya ampun masa tidak tahu, hari ini tanggal']\n"
     ]
    }
   ],
   "source": [
    "# import library\n",
    "from datetime import datetime\n",
    "import random\n",
    "\n",
    "# ganti dengan sebuah nama\n",
    "nama  = \"Nama Anda\"\n",
    "# variabel tanggal\n",
    "tanggal = datetime.now().day\n",
    "# default variabel untuk pertanyaan tidak diketahui\n",
    "default = \"maaf, aku tidak tahu jawaban dari pertanyaanmu\"\n",
    "\n",
    "# Membuat objek dictionary berisi berbagai opsi jawaban\n",
    "\n",
    "# list jawaban untuk pertanyaan tentang nama\n",
    "jawaban_nama = [\n",
    "      \"nama saya  {0}\".format(nama),\n",
    "      \"orang-orang memanggil saya {0}\".format(nama),\n",
    "      \"panggil saja saya {0}\".format(nama)\n",
    "   ]\n",
    "\n",
    "# list jawaban untuk pertanyaan tentang tanggal\n",
    "jawaban_tanggal = [\n",
    "      \"hari ini tanggal {0}\".format(tanggal),\n",
    "      \"ya ampun masa tidak tahu, hari ini tanggal\".format(tanggal)\n",
    "    ]\n",
    "\n",
    "# opsi pertanyaan yang bisa dijawab\n",
    "pertanyaan = {\n",
    "  \"nama kamu siapa?\": jawaban_nama,\n",
    "  \"kamu siapa?\" : jawaban_nama,\n",
    "  \"tanggal berapa hari ini?\": jawaban_tanggal,\n",
    "  \"hari ini tanggal berapa?\" : jawaban_tanggal,\n",
    "  \"default\": default\n",
    "}\n",
    "\n",
    "# list jawaban untuk sebuah argument selain pertanyaan\n",
    "statement =  [\n",
    "                  'ceritakan lebih banyak!',\n",
    "                  'kenapa kamu berpikir begitu?',\n",
    "                  'sudah berapa lama kamu merasa seperti ini?',\n",
    "                  'Itu sangat menarik!',\n",
    "                  'oh wow!',\n",
    "                  ':)'\n",
    "              ]\n",
    "\n",
    "# respon keseluruhan\n",
    "responses = {\n",
    "    'pertanyaan' : pertanyaan,\n",
    "    'statement' : statement\n",
    "}\n",
    "#------\n",
    "             \n",
    "# ayo buat chatbotmu\n",
    "def chatbot(message):\n",
    "    list_pertanyaan = list(pertanyaan.keys()) \n",
    "    list_pertanyaan.remove('default') \n",
    "    message = message.lower()\n",
    "    if message.endswith('?'):\n",
    "        if message in list_pertanyaan:\n",
    "            key_opsi_jawaban = message\n",
    "            list_jawaban = responses['pertanyaan'][key_opsi_jawaban]\n",
    "            jawaban = random.choices(list_jawaban)\n",
    "        else:\n",
    "            jawaban = responses['pertanyaan']['default']\n",
    "    else:\n",
    "        list_jawaban = responses['statement']\n",
    "        jawaban = random.choice(list_jawaban)\n",
    "    return jawaban\n",
    "\n",
    "print(chatbot('Selamat Pagi'))\n",
    "print(chatbot('Mau bermain bersamaku?'))\n",
    "print(chatbot('nama kamu siapa?'))\n",
    "print(chatbot('hari ini tanggal berapa?'))"
   ]
  },
  {
   "cell_type": "markdown",
   "metadata": {
    "id": "-MTkpQytXzWy"
   },
   "source": [
    "expected output:\n",
    "\n",
    "output : <br>\n",
    ":) <br>\n",
    "maaf, aku tidak tahu jawaban dari pertanyaanmu <br>\n",
    "orang-orang memanggil saya Nama Anda <br>\n",
    "ya ampun masa tidak tahu, hari ini tanggal"
   ]
  }
 ],
 "metadata": {
  "colab": {
   "collapsed_sections": [],
   "name": "Tugas Hari 4_Octavia Steevani.ipynb",
   "provenance": []
  },
  "kernelspec": {
   "display_name": "Python 3",
   "language": "python",
   "name": "python3"
  },
  "language_info": {
   "codemirror_mode": {
    "name": "ipython",
    "version": 3
   },
   "file_extension": ".py",
   "mimetype": "text/x-python",
   "name": "python",
   "nbconvert_exporter": "python",
   "pygments_lexer": "ipython3",
   "version": "3.8.8"
  }
 },
 "nbformat": 4,
 "nbformat_minor": 1
}
