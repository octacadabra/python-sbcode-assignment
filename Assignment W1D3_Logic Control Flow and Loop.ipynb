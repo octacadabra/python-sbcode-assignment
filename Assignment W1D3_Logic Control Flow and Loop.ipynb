{
 "cells": [
  {
   "cell_type": "markdown",
   "metadata": {
    "id": "a9HYUdCUsrKl"
   },
   "source": [
    "<h2>Comparison Operator</h2>"
   ]
  },
  {
   "cell_type": "code",
   "execution_count": null,
   "metadata": {
    "id": "lXMCHZ71srKp",
    "outputId": "3f38bca6-6f98-4e28-dc1a-9e164a29ce6d"
   },
   "outputs": [
    {
     "data": {
      "text/plain": [
       "True"
      ]
     },
     "execution_count": 18,
     "metadata": {
      "tags": []
     },
     "output_type": "execute_result"
    }
   ],
   "source": [
    "# comparison dari tipe data string\n",
    "\n",
    "# contoh 1\n",
    "\n",
    "\"atau\" == \"atau\" # menghasilkan true"
   ]
  },
  {
   "cell_type": "code",
   "execution_count": null,
   "metadata": {
    "id": "-BHRVnvTXikd",
    "outputId": "78445a1c-4da8-4a27-a6ee-d7b6e2304627"
   },
   "outputs": [
    {
     "data": {
      "text/plain": [
       "False"
      ]
     },
     "execution_count": 19,
     "metadata": {
      "tags": []
     },
     "output_type": "execute_result"
    }
   ],
   "source": [
    "\"atau\" == \"ya\" # menghasilkan false"
   ]
  },
  {
   "cell_type": "code",
   "execution_count": null,
   "metadata": {
    "id": "gTVl1b22Xikm",
    "outputId": "d56db1dd-6eec-4fe8-bee9-7a89b29ae69f"
   },
   "outputs": [
    {
     "name": "stdout",
     "output_type": "stream",
     "text": [
      "Ya, kamu orangnya!\n"
     ]
    }
   ],
   "source": [
    "# contoh 2\n",
    "\n",
    "nama = \"Anton\"\n",
    "\n",
    "if nama == \"Anton\":\n",
    "    print(\"Ya, kamu orangnya!\")\n",
    "else:\n",
    "    print(\"Maaf, bukan kamu orangnya.\")"
   ]
  },
  {
   "cell_type": "code",
   "execution_count": null,
   "metadata": {
    "id": "iSmlIMa-Xikx",
    "outputId": "553f9bd5-8121-4d80-d4d3-09e47b913f40"
   },
   "outputs": [
    {
     "data": {
      "text/plain": [
       "False"
      ]
     },
     "execution_count": 12,
     "metadata": {
      "tags": []
     },
     "output_type": "execute_result"
    }
   ],
   "source": [
    "# comparison dari tipe data boolean\n",
    "\n",
    "False == True"
   ]
  },
  {
   "cell_type": "code",
   "execution_count": null,
   "metadata": {
    "id": "bvBMlDwCXik_",
    "outputId": "b16f3450-a7c0-4379-820e-83a0ba74b4e4"
   },
   "outputs": [
    {
     "data": {
      "text/plain": [
       "False"
      ]
     },
     "execution_count": 21,
     "metadata": {
      "tags": []
     },
     "output_type": "execute_result"
    }
   ],
   "source": [
    "# comparison dari tipe data integer\n",
    "# contoh 1\n",
    "\n",
    "1 == 2"
   ]
  },
  {
   "cell_type": "code",
   "execution_count": null,
   "metadata": {
    "id": "fdUXCGiqXilI",
    "outputId": "99bdc247-ddca-4731-972f-67ae43dd6dc4"
   },
   "outputs": [
    {
     "name": "stdout",
     "output_type": "stream",
     "text": [
      "Ya, cukup!\n"
     ]
    }
   ],
   "source": [
    "# contoh 2\n",
    "\n",
    "jumlah = 10\n",
    "\n",
    "if jumlah == 10:\n",
    "    print(\"Ya, cukup!\")\n",
    "elif jumlah <10:\n",
    "    print(\"Ayo, dikit lagi!\")\n",
    "else:\n",
    "    print(\"Kurangin ih kebanyakan.\")"
   ]
  },
  {
   "cell_type": "markdown",
   "metadata": {
    "id": "IbNoZvVssrK5"
   },
   "source": [
    "<h2>Boolean Comparison</h2>"
   ]
  },
  {
   "cell_type": "code",
   "execution_count": null,
   "metadata": {
    "id": "ixbs8Hd9XilS",
    "outputId": "47c8fdfa-fac7-4ced-a26e-34fbfb4614dd"
   },
   "outputs": [
    {
     "data": {
      "text/plain": [
       "False"
      ]
     },
     "execution_count": 11,
     "metadata": {
      "tags": []
     },
     "output_type": "execute_result"
    }
   ],
   "source": [
    "# multiple comparison 'and'\n",
    "\n",
    "sesi1 = \"Sudah\"\n",
    "sesi2 = \"Belum\"\n",
    "\n",
    "sesi1 and sesi2 == \"Sudah\" # False karena kedua-duanya harus bernilai \"Sudah\"\n"
   ]
  },
  {
   "cell_type": "code",
   "execution_count": null,
   "metadata": {
    "id": "7eU1vPLCsrK7",
    "outputId": "c936dbea-f723-464e-9bc3-d04490f7c6e3"
   },
   "outputs": [
    {
     "name": "stdout",
     "output_type": "stream",
     "text": [
      "Yuk, jangan lupa dilengkapi.\n"
     ]
    }
   ],
   "source": [
    "sesi1 = \"Sudah\"\n",
    "sesi2 = \"Belum\"\n",
    "\n",
    "if sesi1 and sesi2 == \"Sudah\":\n",
    "    print(\"Ya\")\n",
    "else:\n",
    "    print(\"Yuk, jangan lupa dilengkapi.\")"
   ]
  },
  {
   "cell_type": "code",
   "execution_count": null,
   "metadata": {
    "id": "DCcRBsKyXill",
    "outputId": "da701aa4-d268-46a5-d1bf-97aa43403ecc"
   },
   "outputs": [
    {
     "data": {
      "text/plain": [
       "True"
      ]
     },
     "execution_count": 16,
     "metadata": {
      "tags": []
     },
     "output_type": "execute_result"
    }
   ],
   "source": [
    "# multiple comparison 'or'\n",
    "\n",
    "nilaimatkul = \"B\"\n",
    "\n",
    "nilaimatkul == \"A\" or nilaimatkul == \"B\" # menghasilkan True karena hanya perlu memenuhi salah satu kondisi saja"
   ]
  },
  {
   "cell_type": "code",
   "execution_count": null,
   "metadata": {
    "id": "0iCPsnsKXilt",
    "outputId": "9b6a863f-8b79-475f-dae2-4f8e55abab9e"
   },
   "outputs": [
    {
     "name": "stdout",
     "output_type": "stream",
     "text": [
      "Kamu lulus!\n"
     ]
    }
   ],
   "source": [
    "nilaimatkul = \"B\"\n",
    "\n",
    "if (nilaimatkul == \"A\" or nilaimatkul == \"B\"):\n",
    "    print(\"Kamu lulus!\")\n",
    "else:\n",
    "    print(\"Maaf, kamu tidak lulus.\")"
   ]
  },
  {
   "cell_type": "code",
   "execution_count": null,
   "metadata": {
    "id": "vgGIw9rtXil0",
    "outputId": "6d1bbae5-b698-437d-c950-c2154c71b1c7"
   },
   "outputs": [
    {
     "data": {
      "text/plain": [
       "True"
      ]
     },
     "execution_count": 19,
     "metadata": {
      "tags": []
     },
     "output_type": "execute_result"
    }
   ],
   "source": [
    "# multiple comparison 'not'\n",
    "\n",
    "hewan = \"kucing\"\n",
    "\n",
    "hewan != \"anjing\" # menghasilkan True karena hewan bukan anjing"
   ]
  },
  {
   "cell_type": "code",
   "execution_count": null,
   "metadata": {
    "id": "_hEjViT7Xil8",
    "outputId": "befd6af9-deed-4182-deb4-9902d76d21cb"
   },
   "outputs": [
    {
     "name": "stdout",
     "output_type": "stream",
     "text": [
      "Maaf, saya butuhnya anjing.\n"
     ]
    }
   ],
   "source": [
    "hewan = \"kucing\"\n",
    "\n",
    "if hewan != \"anjing\":\n",
    "    print(\"Maaf, saya butuhnya anjing.\")"
   ]
  },
  {
   "cell_type": "markdown",
   "metadata": {
    "id": "Yp_g_sPMsrLH"
   },
   "source": [
    "<h2>If-Else Statement</h2>\n",
    "\n",
    "Akan dibuat sebuah if-else statement yang akan mem-print 'Besar' jika ruangan adalah 'Kamar' dan ukuran lebih dari 12, kemudian mem-print 'Sedang' jika ruangan adalah 'Kamar' dan ukuran lebih dari 6 dan mem-print 'Kecil' jika ruangan adalah 'Kamar' dan ukuran ruangan lebih kecil dan sama dengan 6."
   ]
  },
  {
   "cell_type": "code",
   "execution_count": null,
   "metadata": {
    "id": "euRiRNupsrLK",
    "outputId": "3c95a93d-0f7b-4eeb-b9cf-db06aa2307ed"
   },
   "outputs": [
    {
     "name": "stdout",
     "output_type": "stream",
     "text": [
      "Besar\n"
     ]
    }
   ],
   "source": [
    "ruangan = 'Kamar'\n",
    "size = 20\n",
    "\n",
    "if ruangan == 'Kamar' and size > 12:\n",
    "    print('Besar')\n",
    "elif ruangan == 'Kamar' and size > 6:\n",
    "    print('Sedang')\n",
    "elif ruangan == 'Kamar' and size <= 6:\n",
    "    print('Kecil')"
   ]
  },
  {
   "cell_type": "markdown",
   "metadata": {
    "id": "IcoJXJT1srLW"
   },
   "source": [
    "<h2>Comparison Operator dengan fungsi</h2>\n",
    "\n",
    "Akan dibuat sebuah fungsi yang menerima satu argument bertipe data numeric dan menghasilkan sebuah return sebagai berikut:\n",
    "- menghasilkan return 'Aneh' jika nilai dari argument tersebut adalah bilangan ganjil\n",
    "- menghasilkan return 'Tidak Aneh' jika nilai dari argument tersebut adalah bilangan genap dan diantara nilai 2 sampai 5 (2 dan 5 termasuk)\n",
    "- menghasilkan return 'Aneh' jika nilai dari argument tersebut adalah bilangan genap dan diantara nilai 6 sampai 20 (6 dan 20 termasuk)\n",
    "- menghasilkan return 'Tidak Aneh' jika nilai dari argument tersebut adalah bilangan genap dan lebih besari dari 20"
   ]
  },
  {
   "cell_type": "code",
   "execution_count": null,
   "metadata": {
    "id": "g8F_qfEKsrLZ",
    "outputId": "7f48435f-3e7f-4e36-99bf-15038b0ae33c"
   },
   "outputs": [
    {
     "name": "stdout",
     "output_type": "stream",
     "text": [
      "Tidak Aneh\n"
     ]
    }
   ],
   "source": [
    "# Buat fungsi\n",
    "\n",
    "argumen = 22 # 22 menghasilkan Tidak Aneh karena merupakan bilangan genap dan lebih besar dari 20 (kondisi ke-4)\n",
    "\n",
    "if (argumen%2) != 0:\n",
    "    print(\"Aneh\")\n",
    "elif (argumen%2) == 0 and 2 <= argumen <= 5:\n",
    "    print(\"Tidak Aneh\")\n",
    "elif (argumen%2) == 0 and 6 <= argumen <= 20:\n",
    "    print(\"Aneh\")\n",
    "elif (argumen%2) == 0 and argumen > 20:\n",
    "    print(\"Tidak Aneh\")"
   ]
  },
  {
   "cell_type": "markdown",
   "metadata": {
    "id": "gf0D64xOsrLl"
   },
   "source": [
    "<h2>While Loop dan For Loop</h2>"
   ]
  },
  {
   "cell_type": "markdown",
   "metadata": {
    "id": "l7KIgpjHsrLo"
   },
   "source": [
    "Perbedaan while loop dan for loop adalah kalau for loop itu counted loop (perulangan yang terhitung), sementara while loop itu  uncounted loop (perulangan yang tak terhitung). Kalau for biasanya digunakan untuk melakukan looping yang sudah diketahui banyak perulangannya, sedangkan while itu digunakan untuk looping selama masih memenuhi kondisi/syarat atau looping sampai mencapai kondisi FALSE."
   ]
  },
  {
   "cell_type": "code",
   "execution_count": 2,
   "metadata": {
    "id": "PR2a9CqpXimf",
    "outputId": "2744657b-b665-48bb-b5b2-2207203094e8"
   },
   "outputs": [
    {
     "name": "stdout",
     "output_type": "stream",
     "text": [
      "ayah\n",
      "ibu\n",
      "kakak\n",
      "adik\n",
      "nenek\n"
     ]
    }
   ],
   "source": [
    "# contoh for loop\n",
    "\n",
    "anggotakeluarga = ['ayah','ibu','kakak','adik','nenek']\n",
    "\n",
    "for i in anggotakeluarga:\n",
    "    print(i)"
   ]
  },
  {
   "cell_type": "code",
   "execution_count": null,
   "metadata": {
    "id": "BGBhqizvXimn",
    "outputId": "07244458-a96b-4a3c-ebeb-81d7cf3488ab"
   },
   "outputs": [
    {
     "name": "stdout",
     "output_type": "stream",
     "text": [
      "0\n",
      "1\n",
      "2\n",
      "3\n",
      "4\n",
      "5\n",
      "6\n",
      "7\n",
      "8\n",
      "9\n",
      "10\n",
      "Udah cukup ngitungnya sampe sini aja.\n"
     ]
    }
   ],
   "source": [
    "# contoh while loop\n",
    "\n",
    "hitung = 0\n",
    "while (hitung <= 10):\n",
    "    print (hitung)\n",
    "    hitung = hitung + 1\n",
    "\n",
    "print (\"Udah cukup ngitungnya sampe sini aja.\")"
   ]
  },
  {
   "cell_type": "markdown",
   "metadata": {
    "id": "fZQpBGCgsrLz"
   },
   "source": [
    "<h2>While Loop</h2>\n",
    "    \n",
    "Akan dibuat sebuah code while loop sebagai berikut:\n",
    "- Buatlah suatu fungsi yang merima satu input nilai numeric\n",
    "- Dalam fungsi, Buat sebuah while-loop dengan melakukan comparasi terhadap inputan tersebut, dimana looping/iterasi terus berjalan apabila nilai inputan tidak sama dengan 0\n",
    "- Dalam setiap iterasi update nilai variable inputan itu, jika input lebih dari 0, maka kurangi variabel tersebut sebesar 1, selain itu tambahkan 1\n",
    "- print nilai variable input dalam setiap awal iterasi"
   ]
  },
  {
   "cell_type": "code",
   "execution_count": null,
   "metadata": {
    "id": "yOiqjrU2srL1",
    "outputId": "63283c75-8c66-4e94-fc8c-68531099023e"
   },
   "outputs": [
    {
     "name": "stdout",
     "output_type": "stream",
     "text": [
      "10\n",
      "9\n",
      "8\n",
      "7\n",
      "6\n",
      "5\n",
      "4\n",
      "3\n",
      "2\n",
      "1\n",
      "1\n"
     ]
    }
   ],
   "source": [
    "a = 10\n",
    "\n",
    "def fungsi_while(a):\n",
    "    while a > 0:\n",
    "        print(a)\n",
    "        a = a - 1\n",
    "    if a <= 0:\n",
    "        print(a+1)\n",
    "\n",
    "fungsi_while(a)"
   ]
  },
  {
   "cell_type": "markdown",
   "metadata": {
    "id": "IWg3Z_zZsrMG"
   },
   "source": [
    "<h2>For Loop</h2>\n",
    "    \n",
    "Akan dibuat sebuah loop dengan mengiterasi sebuah objek list kemudian dikalikan dengan index dari list tersebut.\n",
    "Kemudian akan di-print hasilnya."
   ]
  },
  {
   "cell_type": "code",
   "execution_count": null,
   "metadata": {
    "id": "_Jl5i7WKsrMI",
    "outputId": "3f2db6a0-206e-41bd-e232-a1b808523bbb"
   },
   "outputs": [
    {
     "name": "stdout",
     "output_type": "stream",
     "text": [
      "0\n",
      "16\n",
      "22\n",
      "30\n",
      "20\n"
     ]
    }
   ],
   "source": [
    "obj_list= [1, 16, 11, 10, 5]\n",
    "\n",
    "# lengkapi code di bawah\n",
    "for index,objek in enumerate(obj_list):\n",
    "    print(objek * index)\n"
   ]
  }
 ],
 "metadata": {
  "colab": {
   "name": "Tugas Hari 3_Octavia Steevani.ipynb",
   "provenance": []
  },
  "kernelspec": {
   "display_name": "Python 3",
   "language": "python",
   "name": "python3"
  },
  "language_info": {
   "codemirror_mode": {
    "name": "ipython",
    "version": 3
   },
   "file_extension": ".py",
   "mimetype": "text/x-python",
   "name": "python",
   "nbconvert_exporter": "python",
   "pygments_lexer": "ipython3",
   "version": "3.8.8"
  }
 },
 "nbformat": 4,
 "nbformat_minor": 1
}
