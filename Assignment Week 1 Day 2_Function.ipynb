{
 "cells": [
  {
   "cell_type": "markdown",
   "metadata": {
    "colab_type": "text",
    "id": "I6jmLA-RYrt5"
   },
   "source": [
    "<h2>Helper Function</h2>\n",
    "\n",
    "Menggunakan help() untuk mengetahui kegunaan suatu fungsi dalam python."
   ]
  },
  {
   "cell_type": "code",
   "execution_count": 2,
   "metadata": {
    "colab": {},
    "colab_type": "code",
    "id": "VrvyQxGJYrt9"
   },
   "outputs": [
    {
     "name": "stdout",
     "output_type": "stream",
     "text": [
      "Help on built-in function len in module builtins:\n",
      "\n",
      "len(obj, /)\n",
      "    Return the number of items in a container.\n",
      "\n"
     ]
    }
   ],
   "source": [
    "help(len)"
   ]
  },
  {
   "cell_type": "markdown",
   "metadata": {
    "colab_type": "text",
    "id": "KrcuFTuAYruT"
   },
   "source": [
    "<h2>Built-in Function</h2>"
   ]
  },
  {
   "cell_type": "markdown",
   "metadata": {
    "colab_type": "text",
    "id": "xro-58_CYruW"
   },
   "source": [
    "Built-in function adalah fungsi yang sudah di-define/dibangun di dalam Python, yang siap untuk digunakan. \n",
    "\n",
    "3 contoh built-in function:\n",
    "1. print()\n",
    "2. help()\n",
    "3. len()"
   ]
  },
  {
   "cell_type": "code",
   "execution_count": 8,
   "metadata": {
    "colab": {},
    "colab_type": "code",
    "id": "Xv7lHkgfYruY"
   },
   "outputs": [
    {
     "name": "stdout",
     "output_type": "stream",
     "text": [
      "Selamat pagi, anak-anak\n",
      "None\n",
      "Selamat pagi, Ayu\n",
      "None\n",
      "Help on built-in function print in module builtins:\n",
      "\n",
      "print(...)\n",
      "    print(value, ..., sep=' ', end='\\n', file=sys.stdout, flush=False)\n",
      "    \n",
      "    Prints the values to a stream, or to sys.stdout by default.\n",
      "    Optional keyword arguments:\n",
      "    file:  a file-like object (stream); defaults to the current sys.stdout.\n",
      "    sep:   string inserted between values, default a space.\n",
      "    end:   string appended after the last value, default a newline.\n",
      "    flush: whether to forcibly flush the stream.\n",
      "\n",
      "6\n"
     ]
    }
   ],
   "source": [
    "# Contoh penggunaan built in function\n",
    "\n",
    "# contoh penggunaan print()\n",
    "# print() digunakan untuk mencetak object/fungsi yang diinginkan\n",
    "\n",
    "def sapaan(who=\"anak-anak\"):\n",
    "    print(\"Selamat pagi,\", who)\n",
    "    \n",
    "print(sapaan())\n",
    "print(sapaan(\"Ayu\"))\n",
    "\n",
    "# contoh penggunaan help()\n",
    "# help() digunakan untuk mengetahui penjelasan tentang objek yang ingin diketahui. bila diketik help() akan memanggil Python help console\n",
    "\n",
    "help(print) #mengetahui penjelasan tentang print\n",
    "\n",
    "# contoh penggunaan len()\n",
    "# len() digunakan untuk mengetahui panjang/length atau jumlah item dari objek\n",
    "\n",
    "hewan = 'anjing'\n",
    "print(len(hewan))"
   ]
  },
  {
   "cell_type": "markdown",
   "metadata": {
    "colab_type": "text",
    "id": "yhWXiPNDYrul"
   },
   "source": [
    "<h2>Method dan Function</h2>"
   ]
  },
  {
   "cell_type": "markdown",
   "metadata": {
    "colab_type": "text",
    "id": "rqpTJlgDYrun"
   },
   "source": [
    "Function adalah sekumpulan/blok kode untuk menjalankan sebuah tugas/tindakan, dan dapat dipanggil dengan namanya.\n",
    "Method mirip dengan function, tapi method ini berkaitan/associated dengan sebuah objek/kelas. Dapat dikatakan bahwa method merupakan fungsi yang dimiliki oleh sebuah objek.\n",
    "\n",
    "Perbedaannya adalah method dipanggil pada sebuah objek, tidak seperti fungsi. Maksudnya adalah untuk menggunakan method, adalah dengan memanggil method bersamaan dengan objeknya. Misal menggunakan method upper dalam objek berupa string, yaitu dengan objek.upper().\n",
    "\n",
    "Selain itu, method dapat mengubah/alter state dari objek, tetapi function tidak dan hanya mengoperasikan saja."
   ]
  },
  {
   "cell_type": "markdown",
   "metadata": {
    "colab_type": "text",
    "id": "tUU1xgYBYrup"
   },
   "source": [
    "<h2>Menggunakan Method String</h2>"
   ]
  },
  {
   "cell_type": "code",
   "execution_count": 10,
   "metadata": {
    "colab": {},
    "colab_type": "code",
    "id": "037gauOGYrur"
   },
   "outputs": [
    {
     "name": "stdout",
     "output_type": "stream",
     "text": [
      "CORONA CEPAT SELESAI\n",
      "3\n"
     ]
    }
   ],
   "source": [
    "kalimat = \"Corona cepat selesai\"\n",
    "\n",
    "# gunakan method untuk mengubah nilai kalimat menjadi uppercase semua kemudian tampilkan hasilnya\n",
    "print(kalimat.upper())\n",
    "\n",
    "# gunakan method untuk menghitung berapa huruf e di dalam kalimat\n",
    "print(kalimat.count('e'))"
   ]
  },
  {
   "cell_type": "markdown",
   "metadata": {
    "colab_type": "text",
    "id": "fPTd4R5VYru5"
   },
   "source": [
    "Expected Output:\n",
    "\n",
    "CORONA CEPAT SELESAI\n",
    "\n",
    "3"
   ]
  },
  {
   "cell_type": "markdown",
   "metadata": {
    "colab_type": "text",
    "id": "IPjp5vwDYrvL"
   },
   "source": [
    "<h2>Membuat Simple Function</h2>\n",
    "\n",
    "Berikut fungsi yang menerima satu input argumen berbentuk list dan mempunyai elemen bertipe numerik semua. Fungsi ini berguna untuk menghitung rata-rata (mean) dari kumpulan elemen list tersebut. Fungsi ini akan dinamai dengan 'mean_list'."
   ]
  },
  {
   "cell_type": "code",
   "execution_count": 13,
   "metadata": {
    "colab": {},
    "colab_type": "code",
    "id": "smoKI9zIYrvO"
   },
   "outputs": [
    {
     "name": "stdout",
     "output_type": "stream",
     "text": [
      "13.9\n"
     ]
    }
   ],
   "source": [
    "obj_list = [11.25, 18.0, 20.0, 10.75, 9.50]\n",
    "def mean_list(inp_list):\n",
    "    return(sum(inp_list)/len(inp_list))\n",
    "    \n",
    "print(mean_list(obj_list))"
   ]
  },
  {
   "cell_type": "markdown",
   "metadata": {
    "colab_type": "text",
    "id": "MVAvoHHgYrva"
   },
   "source": [
    "Expected Output:\n",
    "\n",
    "13.9"
   ]
  },
  {
   "cell_type": "markdown",
   "metadata": {
    "colab_type": "text",
    "id": "A8jjpNC8Yrvc"
   },
   "source": [
    "<h2>Membuat function dengan multiple arguments</h2>\n",
    "\n",
    "Akan dibuat fungsi untuk melakukan penggabungan antara dua list, yaitu list obj_list dan obj_penambah."
   ]
  },
  {
   "cell_type": "code",
   "execution_count": 14,
   "metadata": {
    "colab": {},
    "colab_type": "code",
    "id": "r42z4mafYrve"
   },
   "outputs": [
    {
     "name": "stdout",
     "output_type": "stream",
     "text": [
      "[2, 4, 5, 6, 1, 2, 3]\n"
     ]
    }
   ],
   "source": [
    "obj_list = [2, 4, 5, 6]\n",
    "obj_penambah = [1, 2, 3]\n",
    "\n",
    "def kali_list(obj_list, obj_penambah):\n",
    "    return(obj_list + obj_penambah)\n",
    "    \n",
    "    \n",
    "print(kali_list(obj_list, obj_penambah))"
   ]
  },
  {
   "cell_type": "markdown",
   "metadata": {
    "colab_type": "text",
    "id": "RYhU921kYrvp"
   },
   "source": [
    "Expected Output:\n",
    "\n",
    "[2, 4, 5, 6, 1, 2, 3]"
   ]
  }
 ],
 "metadata": {
  "colab": {
   "collapsed_sections": [],
   "name": "Tugas Hari 2.ipynb",
   "provenance": []
  },
  "kernelspec": {
   "display_name": "Python 3",
   "language": "python",
   "name": "python3"
  },
  "language_info": {
   "codemirror_mode": {
    "name": "ipython",
    "version": 3
   },
   "file_extension": ".py",
   "mimetype": "text/x-python",
   "name": "python",
   "nbconvert_exporter": "python",
   "pygments_lexer": "ipython3",
   "version": "3.8.8"
  }
 },
 "nbformat": 4,
 "nbformat_minor": 1
}
